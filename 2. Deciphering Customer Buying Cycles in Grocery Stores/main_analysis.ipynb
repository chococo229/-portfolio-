{
 "cells": [
  {
   "cell_type": "markdown",
   "id": "20c13e39-7875-4358-bdab-157b900f2822",
   "metadata": {},
   "source": [
    "The goal of this project is to understand **weekly fluctuations** in sales and reveal the **hidden patterns in customer behavior**."
   ]
  },
  {
   "cell_type": "code",
   "execution_count": 1,
   "id": "88cb696e-e66c-4fff-943f-d5d25f25f55d",
   "metadata": {},
   "outputs": [],
   "source": [
    "import numpy as np\n",
    "import  pandas as pd\n",
    "\n",
    "grocery1 = pd.read_csv('grocery_data1.csv', index_col = 0)\n",
    "grocery2 = pd.read_csv('grocery_data2.csv', index_col = 0)"
   ]
  },
  {
   "cell_type": "code",
   "execution_count": null,
   "id": "04bf1842-33d2-4d69-92e9-b054f794ded1",
   "metadata": {},
   "outputs": [],
   "source": [
    "# Preview the 2 datasets\n",
    "print(grocery1.info())\n",
    "print(grocery1.head())\n",
    "\n",
    "print(grocery2.info())\n",
    "grocery2.head()"
   ]
  },
  {
   "cell_type": "code",
   "execution_count": 2,
   "id": "290fb748-5ee7-4d3a-92fa-33fcda666a7a",
   "metadata": {},
   "outputs": [
    {
     "name": "stdout",
     "output_type": "stream",
     "text": [
      "<class 'pandas.core.frame.DataFrame'>\n",
      "RangeIndex: 5200 entries, 0 to 5199\n",
      "Data columns (total 9 columns):\n",
      " #   Column         Non-Null Count  Dtype         \n",
      "---  ------         --------------  -----         \n",
      " 0   CustomerID     5200 non-null   int64         \n",
      " 1   Date           5200 non-null   datetime64[ns]\n",
      " 2   Time           5200 non-null   object        \n",
      " 3   TransactionID  5200 non-null   int64         \n",
      " 4   ProductName    5200 non-null   object        \n",
      " 5   PriceUSD       5200 non-null   float64       \n",
      " 6   Quantity       5200 non-null   int64         \n",
      " 7   PaymentMethod  5200 non-null   object        \n",
      " 8   Category       5200 non-null   object        \n",
      "dtypes: datetime64[ns](1), float64(1), int64(3), object(4)\n",
      "memory usage: 365.8+ KB\n",
      "None\n"
     ]
    },
    {
     "data": {
      "text/html": [
       "<div>\n",
       "<style scoped>\n",
       "    .dataframe tbody tr th:only-of-type {\n",
       "        vertical-align: middle;\n",
       "    }\n",
       "\n",
       "    .dataframe tbody tr th {\n",
       "        vertical-align: top;\n",
       "    }\n",
       "\n",
       "    .dataframe thead th {\n",
       "        text-align: right;\n",
       "    }\n",
       "</style>\n",
       "<table border=\"1\" class=\"dataframe\">\n",
       "  <thead>\n",
       "    <tr style=\"text-align: right;\">\n",
       "      <th></th>\n",
       "      <th>CustomerID</th>\n",
       "      <th>Date</th>\n",
       "      <th>Time</th>\n",
       "      <th>TransactionID</th>\n",
       "      <th>ProductName</th>\n",
       "      <th>PriceUSD</th>\n",
       "      <th>Quantity</th>\n",
       "      <th>PaymentMethod</th>\n",
       "      <th>Category</th>\n",
       "    </tr>\n",
       "  </thead>\n",
       "  <tbody>\n",
       "    <tr>\n",
       "      <th>0</th>\n",
       "      <td>41</td>\n",
       "      <td>2023-06-28</td>\n",
       "      <td>20:00:00</td>\n",
       "      <td>2</td>\n",
       "      <td>Apples</td>\n",
       "      <td>5.64</td>\n",
       "      <td>5</td>\n",
       "      <td>Cash</td>\n",
       "      <td>Produce</td>\n",
       "    </tr>\n",
       "    <tr>\n",
       "      <th>1</th>\n",
       "      <td>170</td>\n",
       "      <td>2023-08-18</td>\n",
       "      <td>06:00:00</td>\n",
       "      <td>3</td>\n",
       "      <td>Apples</td>\n",
       "      <td>17.92</td>\n",
       "      <td>1</td>\n",
       "      <td>Mobile Payment</td>\n",
       "      <td>Produce</td>\n",
       "    </tr>\n",
       "    <tr>\n",
       "      <th>2</th>\n",
       "      <td>86</td>\n",
       "      <td>2023-08-18</td>\n",
       "      <td>09:00:00</td>\n",
       "      <td>4</td>\n",
       "      <td>Pasta</td>\n",
       "      <td>19.14</td>\n",
       "      <td>2</td>\n",
       "      <td>Mobile Payment</td>\n",
       "      <td>Grains</td>\n",
       "    </tr>\n",
       "    <tr>\n",
       "      <th>3</th>\n",
       "      <td>178</td>\n",
       "      <td>2023-08-06</td>\n",
       "      <td>02:00:00</td>\n",
       "      <td>5</td>\n",
       "      <td>Rice</td>\n",
       "      <td>0.76</td>\n",
       "      <td>4</td>\n",
       "      <td>Debit Card</td>\n",
       "      <td>Grains</td>\n",
       "    </tr>\n",
       "    <tr>\n",
       "      <th>4</th>\n",
       "      <td>87</td>\n",
       "      <td>2023-07-30</td>\n",
       "      <td>09:00:00</td>\n",
       "      <td>6</td>\n",
       "      <td>Chickpeas</td>\n",
       "      <td>11.30</td>\n",
       "      <td>1</td>\n",
       "      <td>Debit Card</td>\n",
       "      <td>Vegetarian</td>\n",
       "    </tr>\n",
       "  </tbody>\n",
       "</table>\n",
       "</div>"
      ],
      "text/plain": [
       "   CustomerID       Date      Time  TransactionID ProductName  PriceUSD  \\\n",
       "0          41 2023-06-28  20:00:00              2      Apples      5.64   \n",
       "1         170 2023-08-18  06:00:00              3      Apples     17.92   \n",
       "2          86 2023-08-18  09:00:00              4       Pasta     19.14   \n",
       "3         178 2023-08-06  02:00:00              5        Rice      0.76   \n",
       "4          87 2023-07-30  09:00:00              6   Chickpeas     11.30   \n",
       "\n",
       "   Quantity   PaymentMethod    Category  \n",
       "0         5            Cash     Produce  \n",
       "1         1  Mobile Payment     Produce  \n",
       "2         2  Mobile Payment      Grains  \n",
       "3         4      Debit Card      Grains  \n",
       "4         1      Debit Card  Vegetarian  "
      ]
     },
     "execution_count": 2,
     "metadata": {},
     "output_type": "execute_result"
    }
   ],
   "source": [
    "# Parse each file separately before combining them (Because the DateRaw columns are in different format).\n",
    "grocery1['DateRaw'] = pd.to_datetime(grocery1['DateRaw'], format = '%B %d, %Y')\n",
    "grocery1['Time'] = pd.to_datetime(grocery1['Time'], format = '%H:%M:%S').dt.time\n",
    "grocery1 = grocery1.rename(columns = {'DateRaw': 'Date'})\n",
    "\n",
    "grocery2['DateRaw'] = pd.to_datetime(grocery2['DateRaw'])\n",
    "grocery2['Time'] = pd.to_datetime(grocery2['Time'], format = '%H:%M:%S').dt.time\n",
    "grocery2 = grocery2.rename(columns = {'DateRaw': 'Date'})\n",
    "\n",
    "# Combine into one dataset\n",
    "grocery = pd.concat([grocery1, grocery2], ignore_index = True)\n",
    "print(grocery.info())\n",
    "grocery.head()"
   ]
  },
  {
   "cell_type": "markdown",
   "id": "9ade8772-8ea4-48a6-a5d6-30a0c51fd496",
   "metadata": {},
   "source": [
    "### Goal1\n",
    "In order to understand consumer spending patterns, **what week** of the year during the time period given (June 1 to August 31) **had the smallest absolute deviation in sales value** compared to the mean weekly sales over that same time period?"
   ]
  },
  {
   "cell_type": "code",
   "execution_count": 3,
   "id": "9d6b58f9-1ba1-4d29-b602-5d8419e5f320",
   "metadata": {},
   "outputs": [
    {
     "name": "stdout",
     "output_type": "stream",
     "text": [
      "Mean weekly sales: 11442.881428571429\n",
      "The week with the smallest absolute deviation in sales value: 34\n"
     ]
    }
   ],
   "source": [
    "# Find the typical week during the time period(June 1 to August 31)\n",
    "# Add new columns Week & TotalSaleUSD\n",
    "grocery['Week'] = grocery['Date'].dt.isocalendar().week\n",
    "grocery['TotalSaleUSD'] = grocery['PriceUSD'] * grocery['Quantity']\n",
    "\n",
    "# Find week sales\n",
    "weekly_sales = grocery.groupby('Week')['TotalSaleUSD'].sum().reset_index()\n",
    "weekly_sales = weekly_sales.rename(columns = {'TotalSaleUSD': 'WeeklyTotalSaleUSD'})\n",
    "\n",
    "# Calculate the mean weekly sale\n",
    "mean_sales = weekly_sales['WeeklyTotalSaleUSD'].mean()\n",
    "print('Mean weekly sales:', mean_sales)\n",
    "\n",
    "# Find the week with the smallest absolute deviation in sales value\n",
    "weekly_sales['Diff'] = (weekly_sales['WeeklyTotalSaleUSD'] - mean_sales).abs()\n",
    "smallest_sales_deviation = int(weekly_sales.sort_values('Diff').iloc[0]['Week'])\n",
    "print('The week with the smallest absolute deviation in sales value:', smallest_sales_deviation)"
   ]
  },
  {
   "cell_type": "markdown",
   "id": "3471b019-eb21-42a4-9f6f-5e296dc3c615",
   "metadata": {},
   "source": [
    "### Goal2\n",
    "In order to evaluate individual buying preferences, **how many days went by between the three purchases** of cornflakes by CustomerID 107? "
   ]
  },
  {
   "cell_type": "code",
   "execution_count": 6,
   "id": "6b23d994-d6de-4b5b-8ed1-7ad327b0cea2",
   "metadata": {},
   "outputs": [
    {
     "data": {
      "text/html": [
       "<div>\n",
       "<style scoped>\n",
       "    .dataframe tbody tr th:only-of-type {\n",
       "        vertical-align: middle;\n",
       "    }\n",
       "\n",
       "    .dataframe tbody tr th {\n",
       "        vertical-align: top;\n",
       "    }\n",
       "\n",
       "    .dataframe thead th {\n",
       "        text-align: right;\n",
       "    }\n",
       "</style>\n",
       "<table border=\"1\" class=\"dataframe\">\n",
       "  <thead>\n",
       "    <tr style=\"text-align: right;\">\n",
       "      <th></th>\n",
       "      <th>CustomerID</th>\n",
       "      <th>Date</th>\n",
       "      <th>Time</th>\n",
       "      <th>TransactionID</th>\n",
       "      <th>ProductName</th>\n",
       "      <th>PriceUSD</th>\n",
       "      <th>Quantity</th>\n",
       "      <th>PaymentMethod</th>\n",
       "      <th>Category</th>\n",
       "      <th>Week</th>\n",
       "      <th>TotalSaleUSD</th>\n",
       "      <th>DaysSinceLastPurchase</th>\n",
       "    </tr>\n",
       "  </thead>\n",
       "  <tbody>\n",
       "    <tr>\n",
       "      <th>2941</th>\n",
       "      <td>1</td>\n",
       "      <td>2023-08-24</td>\n",
       "      <td>20:00:00</td>\n",
       "      <td>633</td>\n",
       "      <td>Apples</td>\n",
       "      <td>12.48</td>\n",
       "      <td>3</td>\n",
       "      <td>Mobile Payment</td>\n",
       "      <td>Produce</td>\n",
       "      <td>34</td>\n",
       "      <td>37.44</td>\n",
       "      <td>0</td>\n",
       "    </tr>\n",
       "    <tr>\n",
       "      <th>2849</th>\n",
       "      <td>1</td>\n",
       "      <td>2023-07-14</td>\n",
       "      <td>18:00:00</td>\n",
       "      <td>467</td>\n",
       "      <td>Beef</td>\n",
       "      <td>7.44</td>\n",
       "      <td>1</td>\n",
       "      <td>Cash</td>\n",
       "      <td>Meat</td>\n",
       "      <td>28</td>\n",
       "      <td>7.44</td>\n",
       "      <td>0</td>\n",
       "    </tr>\n",
       "    <tr>\n",
       "      <th>4633</th>\n",
       "      <td>1</td>\n",
       "      <td>2023-06-22</td>\n",
       "      <td>22:00:00</td>\n",
       "      <td>4115</td>\n",
       "      <td>Black Beans</td>\n",
       "      <td>11.21</td>\n",
       "      <td>1</td>\n",
       "      <td>Credit Card</td>\n",
       "      <td>Vegetarian</td>\n",
       "      <td>25</td>\n",
       "      <td>11.21</td>\n",
       "      <td>0</td>\n",
       "    </tr>\n",
       "    <tr>\n",
       "      <th>4287</th>\n",
       "      <td>1</td>\n",
       "      <td>2023-07-15</td>\n",
       "      <td>03:00:00</td>\n",
       "      <td>3384</td>\n",
       "      <td>Black Beans</td>\n",
       "      <td>3.56</td>\n",
       "      <td>5</td>\n",
       "      <td>Mobile Payment</td>\n",
       "      <td>Vegetarian</td>\n",
       "      <td>28</td>\n",
       "      <td>17.80</td>\n",
       "      <td>23</td>\n",
       "    </tr>\n",
       "    <tr>\n",
       "      <th>4552</th>\n",
       "      <td>1</td>\n",
       "      <td>2023-07-31</td>\n",
       "      <td>04:00:00</td>\n",
       "      <td>3965</td>\n",
       "      <td>Black Beans</td>\n",
       "      <td>7.98</td>\n",
       "      <td>4</td>\n",
       "      <td>Credit Card</td>\n",
       "      <td>Vegetarian</td>\n",
       "      <td>31</td>\n",
       "      <td>31.92</td>\n",
       "      <td>16</td>\n",
       "    </tr>\n",
       "  </tbody>\n",
       "</table>\n",
       "</div>"
      ],
      "text/plain": [
       "      CustomerID       Date      Time  TransactionID  ProductName  PriceUSD  \\\n",
       "2941           1 2023-08-24  20:00:00            633       Apples     12.48   \n",
       "2849           1 2023-07-14  18:00:00            467         Beef      7.44   \n",
       "4633           1 2023-06-22  22:00:00           4115  Black Beans     11.21   \n",
       "4287           1 2023-07-15  03:00:00           3384  Black Beans      3.56   \n",
       "4552           1 2023-07-31  04:00:00           3965  Black Beans      7.98   \n",
       "\n",
       "      Quantity   PaymentMethod    Category  Week  TotalSaleUSD  \\\n",
       "2941         3  Mobile Payment     Produce    34         37.44   \n",
       "2849         1            Cash        Meat    28          7.44   \n",
       "4633         1     Credit Card  Vegetarian    25         11.21   \n",
       "4287         5  Mobile Payment  Vegetarian    28         17.80   \n",
       "4552         4     Credit Card  Vegetarian    31         31.92   \n",
       "\n",
       "      DaysSinceLastPurchase  \n",
       "2941                      0  \n",
       "2849                      0  \n",
       "4633                      0  \n",
       "4287                     23  \n",
       "4552                     16  "
      ]
     },
     "execution_count": 6,
     "metadata": {},
     "output_type": "execute_result"
    }
   ],
   "source": [
    "# Find the Interpurchase time ---- how many days went by between each purchase of each product\n",
    "# Add a new column DaysSinceLastPurchase showing the interpurchase time\n",
    "grocery_sorted = grocery.sort_values(['CustomerID', 'ProductName', 'Date'])\n",
    "grocery_sorted['DaysSinceLastPurchase'] = grocery_sorted.groupby(['CustomerID', 'ProductName'])['Date'].diff().dt.days.fillna(0).astype(int)\n",
    "grocery_sorted.head()"
   ]
  },
  {
   "cell_type": "code",
   "execution_count": 7,
   "id": "c00598e3-958d-4675-8749-d0e159ca9dc8",
   "metadata": {},
   "outputs": [
    {
     "name": "stdout",
     "output_type": "stream",
     "text": [
      "The purchases of cornflakes made by customer 107 are 3 times, and the interpurchase time are: 6, 40\n"
     ]
    }
   ],
   "source": [
    "# Filter the cornflakes purchase record made by CustomerID 107 \n",
    "cf_107 = grocery_sorted[(grocery_sorted['CustomerID'] == 107) & (grocery_sorted['ProductName'] == 'Cornflakes')]\n",
    "print('The purchases of cornflakes made by customer 107 are 3 times, and the interpurchase time are: 6, 40')"
   ]
  },
  {
   "cell_type": "markdown",
   "id": "6e8783cf-e07e-43f0-84ea-1d4aaf1c4d82",
   "metadata": {},
   "source": [
    "### Goal3\n",
    "In order to tailor marketing strategies, **what hour** of the day (as a number on the 24 hour scale) **had the most hourly total sales?**"
   ]
  },
  {
   "cell_type": "code",
   "execution_count": 9,
   "id": "d5d741ce-563c-4496-a86d-e17351df053f",
   "metadata": {},
   "outputs": [
    {
     "name": "stdout",
     "output_type": "stream",
     "text": [
      "The hour with the most hourly total sales: 22:00:00\n"
     ]
    }
   ],
   "source": [
    "# Find the hour of the day with the highest total sales\n",
    "\n",
    "# Find hourly total sales\n",
    "hourly_sales = grocery.groupby('Time')['TotalSaleUSD'].sum().reset_index()\n",
    "hourly_sales = hourly_sales.rename(columns = {'TotalSaleUSD': 'HourlyTotalSaleUSD'})\n",
    "\n",
    "# Find the hour of the day with the most hourly total sales\n",
    "most_hourly_sales = hourly_sales.sort_values('HourlyTotalSaleUSD', ascending = False).iloc[0]['Time']\n",
    "print('The hour with the most hourly total sales:', most_hourly_sales)"
   ]
  },
  {
   "cell_type": "code",
   "execution_count": null,
   "id": "6679a85f-bcb9-4c27-8a46-bdb2eb4365a0",
   "metadata": {},
   "outputs": [],
   "source": []
  }
 ],
 "metadata": {
  "kernelspec": {
   "display_name": "Python 3 (ipykernel)",
   "language": "python",
   "name": "python3"
  },
  "language_info": {
   "codemirror_mode": {
    "name": "ipython",
    "version": 3
   },
   "file_extension": ".py",
   "mimetype": "text/x-python",
   "name": "python",
   "nbconvert_exporter": "python",
   "pygments_lexer": "ipython3",
   "version": "3.13.3"
  }
 },
 "nbformat": 4,
 "nbformat_minor": 5
}
